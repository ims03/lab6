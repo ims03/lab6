{
 "cells": [
  {
   "cell_type": "code",
   "execution_count": 8,
   "metadata": {},
   "outputs": [
    {
     "name": "stdin",
     "output_type": "stream",
     "text": [
      "what is your name?  imaan\n",
      "what is your age?  18\n"
     ]
    },
    {
     "name": "stdout",
     "output_type": "stream",
     "text": [
      "hello imaan! you are a young adult!\n"
     ]
    }
   ],
   "source": [
    "name = input(\"what is your name? \")\n",
    "age = input(\"what is your age? \")\n",
    "age = int(age)\n",
    "if (age>64):\n",
    "    print(\"hello \" + name + \"! you are a senior!\")\n",
    "elif (age>34):\n",
    "    print(\"hello \" + name + \"! you are middle aged!\")\n",
    "elif (age>17):\n",
    "    print(\"hello \" + name + \"! you are a young adult!\")\n",
    "elif (age>12):\n",
    "    print(\"hello \" + name + \"! you are a teenager!\")\n",
    "elif(age>4):\n",
    "    print(\"hello \" + name + \"! you are a child!\")\n",
    "elif(age>2):\n",
    "    print(\"hello \" + name + \"! you are a toddler!\")\n",
    "elif(age>=0):\n",
    "    print(\"hello \" + name + \"! you are a baby!\")\n",
    "else:\n",
    "    print(\"enter a valid age\")\n",
    "    \n"
   ]
  },
  {
   "cell_type": "code",
   "execution_count": null,
   "metadata": {},
   "outputs": [],
   "source": []
  }
 ],
 "metadata": {
  "kernelspec": {
   "display_name": "Python 3",
   "language": "python",
   "name": "python3"
  },
  "language_info": {
   "codemirror_mode": {
    "name": "ipython",
    "version": 3
   },
   "file_extension": ".py",
   "mimetype": "text/x-python",
   "name": "python",
   "nbconvert_exporter": "python",
   "pygments_lexer": "ipython3",
   "version": "3.8.3"
  }
 },
 "nbformat": 4,
 "nbformat_minor": 4
}
